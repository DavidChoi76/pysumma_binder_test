{
 "cells": [
  {
   "cell_type": "markdown",
   "metadata": {},
   "source": [
    "## Download SUMMA model instances from HydroShare"
   ]
  },
  {
   "cell_type": "code",
   "execution_count": null,
   "metadata": {},
   "outputs": [],
   "source": [
    "from hs_restclient import HydroShare\n",
    "import shutil, os, zipfile, glob"
   ]
  },
  {
   "cell_type": "code",
   "execution_count": null,
   "metadata": {},
   "outputs": [],
   "source": [
    "current_path = '/home/jovyan'"
   ]
  },
  {
   "cell_type": "code",
   "execution_count": null,
   "metadata": {},
   "outputs": [],
   "source": [
    "# Download RHESsys model data from HydroShare\n",
    "hs = HydroShare()\n",
    "resource_id = 'da08257203d84ef5930f1a77e41dba63'\n",
    "hs.getResource(resource_id, destination=current_path, unzip=True)"
   ]
  },
  {
   "cell_type": "code",
   "execution_count": null,
   "metadata": {},
   "outputs": [],
   "source": [
    "# move downloaded files to current directory\n",
    "hydroshare_resources = os.path.join(current_path, resource_id, resource_id, 'data/contents')\n",
    "for file in glob.glob(hydroshare_resources +'/*'):\n",
    "    if file == hydroshare_resources + \"/Download_pySUMMA_Notebooks.ipynb\":\n",
    "        pass\n",
    "    else:\n",
    "        shutil.move(file, current_path)\n",
    "shutil.rmtree(os.path.join(current_path, resource_id))"
   ]
  }
 ],
 "metadata": {
  "kernelspec": {
   "display_name": "Python 3",
   "language": "python",
   "name": "python3"
  },
  "language_info": {
   "codemirror_mode": {
    "name": "ipython",
    "version": 3
   },
   "file_extension": ".py",
   "mimetype": "text/x-python",
   "name": "python",
   "nbconvert_exporter": "python",
   "pygments_lexer": "ipython3",
   "version": "3.7.1"
  }
 },
 "nbformat": 4,
 "nbformat_minor": 2
}
